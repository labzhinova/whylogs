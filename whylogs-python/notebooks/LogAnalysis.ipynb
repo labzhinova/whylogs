{
 "cells": [
  {
   "cell_type": "code",
   "execution_count": null,
   "metadata": {},
   "outputs": [],
   "source": [
    "%matplotlib inline\n",
    "\n",
    "import re\n",
    "import os.path\n",
    "\n",
    "import pandas as pd\n",
    "import numpy as np\n",
    "import matplotlib.pyplot as plt"
   ]
  },
  {
   "cell_type": "markdown",
   "metadata": {},
   "source": [
    "# Reading logs generated from WhyLogs CLI\n",
    "\n",
    "Running WhyLogs will produce the following four files:\n",
    "1. A flat summary file;\n",
    "2. A histograms file;\n",
    "3. A frequency file; and\n",
    "4. A binary file containing the raw data objects\n",
    "\n",
    "We'll first explore the generated files produced from the command line interface. We can explore the generated files by downloading and reading into Pandas as dataframes."
   ]
  },
  {
   "cell_type": "code",
   "execution_count": null,
   "metadata": {},
   "outputs": [],
   "source": [
    "# GENERATED CELL, assumes files have expected names directly inside of stated directory\n",
    "summary_dir = ###SUMMARY_DIR###\n",
    "data_dir = ###DATA_DIR###\n",
    "data_file = ##DATA_FILE###"
   ]
  },
  {
   "cell_type": "markdown",
   "metadata": {},
   "source": [
    "WhyLogs calculates and displays a number of metrics for the data that passes through. The carefully chosen metrics balance efficient storage and in-depth analysis of your data."
   ]
  },
  {
   "cell_type": "code",
   "execution_count": null,
   "metadata": {},
   "outputs": [],
   "source": [
    "# Must confirm with Andy's CLI experience\n",
    "flat_summary = pd.read_csv(os.path.join(summary_dir, \"\"))\n",
    "flat_summary"
   ]
  },
  {
   "cell_type": "markdown",
   "metadata": {},
   "source": [
    "The flat summary file contains a summary of each variable of the dataset that has metrics specifically for numeric, text, and categorical variables. The inferred variable types themselves can tell us a lot about errors that may occur in the process.\n",
    "\n",
    "For example, in the packaged loan dataset, the *mths_since_last_record* variable has 74% of records in the majority variable type. We can see further detail with the type count variables that we'll view below.\n",
    "\n",
    "First, we'll need to pull a particular variable's row from the summary data. We'll then display a few metrics related to data types."
   ]
  },
  {
   "cell_type": "code",
   "execution_count": null,
   "metadata": {},
   "outputs": [],
   "source": [
    "# List all type count metrics\n",
    "regex = re.compile(\"type_(.*)_count\")\n",
    "metrics = filter(regex.match, flat_summary.columns)\n",
    "\n",
    "# Filter to the desired variable\n",
    "data = flat_summary[flat_summary[\"index\"]==\"mths_since_last_record\"]\n",
    "\n",
    "# Print data type percentage\n",
    "print(\"Percentage of data in inferred data type:\", data[\"inferred_dtype\"])\n",
    "\n",
    "# Display all type count metrics\n",
    "x = [i for i, _ in enumerate(metrics)]\n",
    "plt.bar(x, data[metrics])\n",
    "plt.set_xticks(metrics)\n",
    "plt.show()"
   ]
  },
  {
   "cell_type": "markdown",
   "metadata": {},
   "source": [
    "In addition to the type metrics, there are loads of other useful metrics in the WhyLogs summaries. These include but are not limited to descriptive statistics, estimations with error intervals, and metrics related to missing values."
   ]
  },
  {
   "cell_type": "markdown",
   "metadata": {},
   "source": [
    "The histogram file contains information for numeric variables that allow us to create histograms and analyze distribution.\n",
    "\n",
    "We'll grab the data for the *fico_range_high* variable and plot it using `matplotlib`."
   ]
  },
  {
   "cell_type": "code",
   "execution_count": null,
   "metadata": {},
   "outputs": [],
   "source": [
    "histograms = pd.read_csv(os.path.join(summary_dir, \"\"))\n",
    "\n",
    "# See one of the inspected histograms\n",
    "bins = histograms['fico_range_high']['bin_edges']\n",
    "n = histograms['fico_range_high']['counts']\n",
    "bin_width = np.diff(bins)\n",
    "\n",
    "plt.bar(bins[0:-1], n, bin_width, align='edge')"
   ]
  },
  {
   "cell_type": "markdown",
   "metadata": {},
   "source": [
    "Finally, we have more detailed information on the frequencies of many variables in the dataset. These can be accessed through the generated frequencies file."
   ]
  },
  {
   "cell_type": "code",
   "execution_count": null,
   "metadata": {},
   "outputs": [],
   "source": [
    "frequencies = pd.read_csv(os.path.join(summary_dir, \"\"))"
   ]
  },
  {
   "cell_type": "markdown",
   "metadata": {},
   "source": [
    "# Generating logs from WhyLogs Python library\n",
    "\n",
    "These same files can also be produced with the `whylabs` Python library along with tools to display these as logs to external files, such as `stdout`.\n",
    "\n",
    "To do so, we will import the WhyLogs library, initialize a logging session with WhyLogs, read our raw data, and pass this data to our session."
   ]
  },
  {
   "cell_type": "code",
   "execution_count": null,
   "metadata": {},
   "outputs": [],
   "source": [
    "from whylabs.logs import get_or_create_session, get_logger"
   ]
  },
  {
   "cell_type": "code",
   "execution_count": null,
   "metadata": {},
   "outputs": [],
   "source": [
    "session = get_or_create_session(\n",
    "    output_to_disk=True\n",
    ")"
   ]
  },
  {
   "cell_type": "code",
   "execution_count": null,
   "metadata": {},
   "outputs": [],
   "source": [
    "logger = get_logger()"
   ]
  },
  {
   "cell_type": "code",
   "execution_count": null,
   "metadata": {},
   "outputs": [],
   "source": [
    "data = pd.read_csv(os.path.join(data_dir, data_file))\n",
    "data"
   ]
  },
  {
   "cell_type": "markdown",
   "metadata": {},
   "source": [
    "Now that we have the raw data, we can pass it into the WhyLogs logger. We can pass a label \"test.data\" along with the dataset for future reference.\n",
    "\n",
    "When we capture the logger response, we can interact with the generated profiles."
   ]
  },
  {
   "cell_type": "code",
   "execution_count": null,
   "metadata": {},
   "outputs": [],
   "source": [
    "response = logger.log_dataframe(df_test, 'test.data')\n",
    "profile = response['profile']\n",
    "summary = profile.flat_summary()"
   ]
  },
  {
   "cell_type": "markdown",
   "metadata": {},
   "source": [
    "The flat summary, histograms, and frequency information can be found inside this summary object."
   ]
  },
  {
   "cell_type": "code",
   "execution_count": null,
   "metadata": {},
   "outputs": [],
   "source": [
    "flat_summary = summary['summary']\n",
    "flat_summary"
   ]
  },
  {
   "cell_type": "code",
   "execution_count": null,
   "metadata": {},
   "outputs": [],
   "source": [
    "histograms = summary['hist']\n",
    "histograms"
   ]
  },
  {
   "cell_type": "code",
   "execution_count": null,
   "metadata": {},
   "outputs": [],
   "source": [
    "frequencies = summary['freq']\n",
    "frequencies"
   ]
  },
  {
   "cell_type": "markdown",
   "metadata": {},
   "source": [
    "## Additional options for our WhyLogs session\n",
    "We chose the most simple configuration above, but there are a number of convenient options that can be set.\n",
    "\n",
    "**Cloud storage:** You may set the an AWS S3 bucket to have these logs automatically pushed to the cloud. You must have valid AWS configuration settings to be able to do so.\n",
    "\n",
    "**Binary file:** By default, we produce a binary file that contains raw objects used to summarize the data passed in. Navigating this file is beyond the scope of this notebook, however. This is listed under the *output_protobuf* option.\n",
    "\n",
    "**Flat and JSON summaries:** By default, we produce a flat summary in the CSV format along with histogram and frequency summaries in the JSON format.\n",
    "\n",
    "You can see these configuration options and others paired with the session in the `session.config` object."
   ]
  },
  {
   "cell_type": "code",
   "execution_count": null,
   "metadata": {},
   "outputs": [],
   "source": [
    "session.config"
   ]
  },
  {
   "cell_type": "markdown",
   "metadata": {},
   "source": [
    "## Display and resetting the session\n",
    "\n",
    "There is also a convenience function to send the internal Python logs to stdout.\n",
    "\n",
    "\\#TODO Does this replicate the `output_to_stdout` functionality for the session."
   ]
  },
  {
   "cell_type": "code",
   "execution_count": null,
   "metadata": {},
   "outputs": [],
   "source": [
    "from whylabs.logs import display_logging\n",
    "display_logging('debug')"
   ]
  },
  {
   "cell_type": "markdown",
   "metadata": {},
   "source": [
    "When you are done with your session, run the `reset_session` function."
   ]
  },
  {
   "cell_type": "code",
   "execution_count": null,
   "metadata": {},
   "outputs": [],
   "source": [
    "from whylabs.logs.app.session import reset_session\n",
    "reset_session()"
   ]
  }
 ],
 "metadata": {
  "kernelspec": {
   "display_name": "Python 3",
   "language": "python",
   "name": "python3"
  },
  "language_info": {
   "codemirror_mode": {
    "name": "ipython",
    "version": 3
   },
   "file_extension": ".py",
   "mimetype": "text/x-python",
   "name": "python",
   "nbconvert_exporter": "python",
   "pygments_lexer": "ipython3",
   "version": "3.7.4"
  }
 },
 "nbformat": 4,
 "nbformat_minor": 4
}
