{
 "cells": [
  {
   "cell_type": "code",
   "execution_count": null,
   "metadata": {},
   "outputs": [],
   "source": [
    "%matplotlib inline\n",
    "\n",
    "import re\n",
    "import os.path\n",
    "\n",
    "import pandas as pd\n",
    "import numpy as np\n",
    "import matplotlib.pyplot as plt"
   ]
  },
  {
   "cell_type": "markdown",
   "metadata": {},
   "source": [
    "# Reading logs generated from WhyLogs CLI\n",
    "\n",
    "Running WhyLogs will produce the following four files:\n",
    "1. A flat summary file;\n",
    "2. A histograms file;\n",
    "3. A frequency file; and\n",
    "4. A binary file containing the raw data objects\n",
    "\n",
    "We'll first explore the generated files produced from the command line interface. We can explore the generated files by downloading and reading into Pandas as dataframes."
   ]
  },
  {
   "cell_type": "code",
   "execution_count": null,
   "metadata": {},
   "outputs": [],
   "source": [
    "# This cell is a generated using the `whylogs init` command and will not run as-is.\n",
    "# If this notebook has not been created as a result of that command, replace commented variables\n",
    "# with strings containing the appropriate values for your use case.\n",
    "project_dir = ###PROJECT_DIR###"
   ]
  },
  {
   "cell_type": "markdown",
   "metadata": {},
   "source": [
    "WhyLogs calculates and displays a number of metrics for the data that passes through. The carefully chosen metrics balance efficient storage and in-depth analysis of your data."
   ]
  },
  {
   "cell_type": "code",
   "execution_count": null,
   "metadata": {},
   "outputs": [],
   "source": [
    "# TODO: After generated cell, must confirm with Andy's CLI experience\n",
    "flat_summary = pd.read_csv(os.path.join(project_dir, \"\"))\n",
    "flat_summary"
   ]
  },
  {
   "cell_type": "markdown",
   "metadata": {},
   "source": [
    "The flat summary file contains a summary of each variable of the dataset that has metrics specifically for numeric, text, and categorical variables. The inferred variable types themselves can tell us a lot about errors that may occur in the process.\n",
    "\n",
    "For example, in the packaged loan dataset, the *mths_since_last_record* variable has 74% of records in the majority variable type. We can see further detail with the type count variables that we'll view below.\n",
    "\n",
    "First, we'll need to pull a particular variable's row from the summary data. We'll then display a few metrics related to data types."
   ]
  },
  {
   "cell_type": "code",
   "execution_count": null,
   "metadata": {},
   "outputs": [],
   "source": [
    "# List all type count metrics\n",
    "regex = re.compile(\"type_(.*)_count\")\n",
    "metrics = list(filter(regex.match, flat_summary.columns))"
   ]
  },
  {
   "cell_type": "code",
   "execution_count": null,
   "metadata": {},
   "outputs": [],
   "source": [
    "# Filter to the desired variable\n",
    "variable = \"mths_since_last_record\"\n",
    "data = flat_summary[flat_summary[\"column\"]==variable]\n",
    "\n",
    "# Print data type percentage\n",
    "print(\"Percentage of data in inferred data type:\", data[\"inferred_dtype\"].values)"
   ]
  },
  {
   "cell_type": "code",
   "execution_count": null,
   "metadata": {},
   "outputs": [],
   "source": [
    "# Display all type count metrics using matplotlib\n",
    "x = [i for i, _ in enumerate(metrics)]\n",
    "fig, ax = plt.subplots()\n",
    "plt.bar(x, np.squeeze(data[metrics].values))\n",
    "plt.title(\"Type counts for \"+variable)\n",
    "plt.ylabel(\"Count\")\n",
    "plt.xticks(x, metrics)\n",
    "plt.setp(ax.get_xticklabels(), rotation=-30, horizontalalignment='left')\n",
    "plt.show()"
   ]
  },
  {
   "cell_type": "markdown",
   "metadata": {},
   "source": [
    "In addition to the type metrics, there are loads of other useful metrics in the WhyLogs summaries. These include but are not limited to descriptive statistics, estimations with error intervals, and metrics related to missing values."
   ]
  },
  {
   "cell_type": "markdown",
   "metadata": {},
   "source": [
    "The histogram file contains information for numeric variables that allow us to create histograms and analyze distribution.\n",
    "\n",
    "We'll grab the data for the *fico_range_high* variable and plot it."
   ]
  },
  {
   "cell_type": "code",
   "execution_count": null,
   "metadata": {},
   "outputs": [],
   "source": [
    "histograms = pd.read_csv(os.path.join(project_dir, \"\"))"
   ]
  },
  {
   "cell_type": "code",
   "execution_count": null,
   "metadata": {},
   "outputs": [],
   "source": [
    "# See one of the inspected histograms\n",
    "variable = \"fico_range_high\"\n",
    "bins = histograms[variable]['bin_edges']\n",
    "n = histograms[variable]['counts']\n",
    "bin_width = np.diff(bins)\n",
    "\n",
    "plt.bar(bins[0:-1], n, bin_width, align='edge')\n",
    "plt.title(\"Histogram for \"+variable)\n",
    "plt.ylabel(\"Count\")\n",
    "plt.show()"
   ]
  },
  {
   "cell_type": "markdown",
   "metadata": {},
   "source": [
    "Finally, we have more detailed information on the frequencies of many variables in the dataset. These can be accessed through the generated frequencies file."
   ]
  },
  {
   "cell_type": "code",
   "execution_count": null,
   "metadata": {},
   "outputs": [],
   "source": [
    "frequencies = pd.read_csv(os.path.join(project_dir, \"\"))"
   ]
  }
 ],
 "metadata": {
  "kernelspec": {
   "display_name": "Python 3",
   "language": "python",
   "name": "python3"
  },
  "language_info": {
   "codemirror_mode": {
    "name": "ipython",
    "version": 3
   },
   "file_extension": ".py",
   "mimetype": "text/x-python",
   "name": "python",
   "nbconvert_exporter": "python",
   "pygments_lexer": "ipython3",
   "version": "3.7.4"
  }
 },
 "nbformat": 4,
 "nbformat_minor": 4
}
